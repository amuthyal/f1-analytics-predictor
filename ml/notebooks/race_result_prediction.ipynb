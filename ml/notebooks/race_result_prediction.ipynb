{
 "cells": [
  {
   "cell_type": "code",
   "execution_count": 1,
   "metadata": {},
   "outputs": [
    {
     "ename": "ModuleNotFoundError",
     "evalue": "No module named 'pandas'",
     "output_type": "error",
     "traceback": [
      "\u001b[0;31m---------------------------------------------------------------------------\u001b[0m",
      "\u001b[0;31mModuleNotFoundError\u001b[0m                       Traceback (most recent call last)",
      "Cell \u001b[0;32mIn[1], line 2\u001b[0m\n\u001b[1;32m      1\u001b[0m \u001b[38;5;66;03m# 📦 Load F1 Dataset CSVs and preview them\u001b[39;00m\n\u001b[0;32m----> 2\u001b[0m \u001b[38;5;28;01mimport\u001b[39;00m\u001b[38;5;250m \u001b[39m\u001b[38;5;21;01mpandas\u001b[39;00m\u001b[38;5;250m \u001b[39m\u001b[38;5;28;01mas\u001b[39;00m\u001b[38;5;250m \u001b[39m\u001b[38;5;21;01mpd\u001b[39;00m\n\u001b[1;32m      4\u001b[0m \u001b[38;5;66;03m# Load datasets\u001b[39;00m\n\u001b[1;32m      5\u001b[0m drivers \u001b[38;5;241m=\u001b[39m pd\u001b[38;5;241m.\u001b[39mread_csv(\u001b[38;5;124m'\u001b[39m\u001b[38;5;124m../data/drivers.csv\u001b[39m\u001b[38;5;124m'\u001b[39m)\n",
      "\u001b[0;31mModuleNotFoundError\u001b[0m: No module named 'pandas'"
     ]
    }
   ],
   "source": [
    "# 📦 Load F1 Dataset CSVs and preview them\n",
    "import pandas as pd\n",
    "\n",
    "# Load datasets\n",
    "drivers = pd.read_csv('../data/drivers.csv')\n",
    "constructors = pd.read_csv('../data/constructors.csv')\n",
    "constructor_standings = pd.read_csv('../data/constructor_standings.csv')\n",
    "results = pd.read_csv('../data/results.csv')\n",
    "races = pd.read_csv('../data/races.csv')\n",
    "qualifying = pd.read_csv('../data/qualifying.csv')\n",
    "\n",
    "# Print shapes\n",
    "print(\"drivers:\", drivers.shape)\n",
    "print(\"constructors:\", constructors.shape)\n",
    "print(\"constructor_standings:\", constructor_standings.shape)\n",
    "print(\"results:\", results.shape)\n",
    "print(\"races:\", races.shape)\n",
    "print(\"qualifying:\", qualifying.shape)\n",
    "\n",
    "# Preview first few rows of results\n",
    "print(\"\\n🔍 Sample race results:\")\n",
    "results.head()\n"
   ]
  }
 ],
 "metadata": {
  "kernelspec": {
   "display_name": "venv",
   "language": "python",
   "name": "python3"
  },
  "language_info": {
   "codemirror_mode": {
    "name": "ipython",
    "version": 3
   },
   "file_extension": ".py",
   "mimetype": "text/x-python",
   "name": "python",
   "nbconvert_exporter": "python",
   "pygments_lexer": "ipython3",
   "version": "3.9.6"
  }
 },
 "nbformat": 4,
 "nbformat_minor": 2
}
