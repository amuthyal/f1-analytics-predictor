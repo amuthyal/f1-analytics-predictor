{
 "cells": [
  {
   "cell_type": "code",
   "execution_count": 33,
   "metadata": {},
   "outputs": [],
   "source": [
    "import pandas as pd\n",
    "import numpy as np\n",
    "from sklearn.ensemble import RandomForestRegressor\n",
    "from sklearn.model_selection import train_test_split\n",
    "from sklearn.metrics import mean_absolute_error, classification_report\n",
    "import joblib"
   ]
  },
  {
   "cell_type": "code",
   "execution_count": 34,
   "metadata": {},
   "outputs": [],
   "source": [
    "# 📊 Step 2: Load Training Data\n",
    "df = pd.read_csv('../data/training_data.csv')\n",
    "df = df[df['positionOrder'] > 0]\n",
    "df = df.dropna(subset=['driverId', 'constructorId', 'grid', 'round', 'year', 'positionOrder'])\n",
    "X = df[['driverId', 'constructorId', 'grid', 'round', 'year']]\n",
    "y = df['positionOrder']"
   ]
  },
  {
   "cell_type": "code",
   "execution_count": 36,
   "metadata": {},
   "outputs": [
    {
     "name": "stdout",
     "output_type": "stream",
     "text": [
      "MAE: 3.535355450236967\n"
     ]
    }
   ],
   "source": [
    "# 🤖 Step 3: Train Position Prediction Model\n",
    "X_train, X_test, y_train, y_test = train_test_split(X, y, test_size=0.2, random_state=42)\n",
    "model = RandomForestRegressor(n_estimators=100, random_state=42)\n",
    "model.fit(X_train, y_train)\n",
    "\n",
    "preds = model.predict(X_test)\n",
    "print('MAE:', mean_absolute_error(y_test, preds))"
   ]
  },
  {
   "cell_type": "code",
   "execution_count": 37,
   "metadata": {},
   "outputs": [
    {
     "name": "stdout",
     "output_type": "stream",
     "text": [
      "Model saved to ../../server/ml_models/top3_rank_predictor.pkl\n"
     ]
    }
   ],
   "source": [
    "# 💾 Step 4: Save Model\n",
    "joblib.dump(model, '../../server/ml_models/top3_rank_predictor.pkl')\n",
    "print(\"Model saved to ../../server/ml_models/top3_rank_predictor.pkl\")"
   ]
  }
 ],
 "metadata": {
  "kernelspec": {
   "display_name": "venv",
   "language": "python",
   "name": "python3"
  },
  "language_info": {
   "codemirror_mode": {
    "name": "ipython",
    "version": 3
   },
   "file_extension": ".py",
   "mimetype": "text/x-python",
   "name": "python",
   "nbconvert_exporter": "python",
   "pygments_lexer": "ipython3",
   "version": "3.9.6"
  }
 },
 "nbformat": 4,
 "nbformat_minor": 2
}
