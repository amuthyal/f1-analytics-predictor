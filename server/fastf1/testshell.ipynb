{
 "cells": [
  {
   "cell_type": "code",
   "execution_count": 1,
   "metadata": {},
   "outputs": [
    {
     "name": "stderr",
     "output_type": "stream",
     "text": [
      "/Users/akhilamuthyala/f1-analytics-predictor/server/fastf1/venv/lib/python3.9/site-packages/urllib3/__init__.py:35: NotOpenSSLWarning: urllib3 v2 only supports OpenSSL 1.1.1+, currently the 'ssl' module is compiled with 'LibreSSL 2.8.3'. See: https://github.com/urllib3/urllib3/issues/3020\n",
      "  warnings.warn(\n",
      "core           INFO \tLoading data for Chinese Grand Prix - Qualifying [v3.5.3]\n",
      "req            INFO \tUsing cached data for session_info\n",
      "req            INFO \tUsing cached data for driver_info\n",
      "req            INFO \tUsing cached data for session_status_data\n",
      "req            INFO \tUsing cached data for track_status_data\n",
      "req            INFO \tUsing cached data for _extended_timing_data\n",
      "req            INFO \tUsing cached data for timing_app_data\n",
      "core           INFO \tProcessing timing data...\n",
      "req            INFO \tUsing cached data for car_data\n",
      "req            INFO \tUsing cached data for position_data\n",
      "req            INFO \tUsing cached data for weather_data\n",
      "req            INFO \tUsing cached data for race_control_messages\n",
      "core           INFO \tFinished loading data for 20 drivers: ['1', '11', '14', '4', '81', '16', '55', '63', '27', '77', '18', '3', '31', '23', '10', '24', '20', '44', '22', '2']\n"
     ]
    },
    {
     "name": "stdout",
     "output_type": "stream",
     "text": [
      "   Abbreviation                     Q1  Position\n",
      "1           VER 0 days 00:01:34.742000       1.0\n",
      "11          PER 0 days 00:01:35.457000       2.0\n",
      "14          ALO 0 days 00:01:35.116000       3.0\n",
      "4           NOR 0 days 00:01:34.842000       4.0\n",
      "81          PIA 0 days 00:01:35.014000       5.0\n",
      "16          LEC 0 days 00:01:34.797000       6.0\n",
      "55          SAI 0 days 00:01:34.970000       7.0\n",
      "63          RUS 0 days 00:01:35.084000       8.0\n",
      "27          HUL 0 days 00:01:35.068000       9.0\n",
      "77          BOT 0 days 00:01:35.169000      10.0\n",
      "18          STR 0 days 00:01:35.334000      11.0\n",
      "3           RIC 0 days 00:01:35.443000      12.0\n",
      "31          OCO 0 days 00:01:35.356000      13.0\n",
      "23          ALB 0 days 00:01:35.384000      14.0\n",
      "10          GAS 0 days 00:01:35.287000      15.0\n",
      "24          ZHO 0 days 00:01:35.505000      16.0\n",
      "20          MAG 0 days 00:01:35.516000      17.0\n",
      "44          HAM 0 days 00:01:35.573000      18.0\n",
      "22          TSU 0 days 00:01:35.746000      19.0\n",
      "2           SAR 0 days 00:01:36.358000      20.0\n"
     ]
    }
   ],
   "source": [
    "import fastf1\n",
    "fastf1.Cache.enable_cache('./f1_cache')\n",
    "session = fastf1.get_session(2024, 5, 'Q')\n",
    "session.load()\n",
    "print(session.results[[\"Abbreviation\", \"Q1\", \"Position\"]])"
   ]
  }
 ],
 "metadata": {
  "kernelspec": {
   "display_name": "venv",
   "language": "python",
   "name": "python3"
  },
  "language_info": {
   "codemirror_mode": {
    "name": "ipython",
    "version": 3
   },
   "file_extension": ".py",
   "mimetype": "text/x-python",
   "name": "python",
   "nbconvert_exporter": "python",
   "pygments_lexer": "ipython3",
   "version": "3.9.6"
  }
 },
 "nbformat": 4,
 "nbformat_minor": 2
}
